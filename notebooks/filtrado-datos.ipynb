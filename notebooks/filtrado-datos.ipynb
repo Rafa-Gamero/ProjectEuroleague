{
 "cells": [
  {
   "cell_type": "markdown",
   "metadata": {},
   "source": [
    "Importación Librerias "
   ]
  },
  {
   "cell_type": "code",
   "execution_count": 1,
   "metadata": {},
   "outputs": [],
   "source": [
    "import pandas as pd\n",
    "import numpy as np"
   ]
  },
  {
   "cell_type": "markdown",
   "metadata": {},
   "source": [
    "Importación funciones"
   ]
  },
  {
   "cell_type": "markdown",
   "metadata": {},
   "source": [
    "Carga de datos "
   ]
  },
  {
   "cell_type": "code",
   "execution_count": 2,
   "metadata": {},
   "outputs": [],
   "source": [
    "# Cargar los archivos CSV\n",
    "box_score_df = pd.read_csv('c:/Users/Casa/Documents/GitHub/ProjecyEuroleague/data/euroleague_box_score.csv')\n",
    "comparison_df = pd.read_csv('c:/Users/Casa/Documents/GitHub/ProjecyEuroleague/data/euroleague_comparison.csv')\n",
    "header_df = pd.read_csv('c:/Users/Casa/Documents/GitHub/ProjecyEuroleague/data/euroleague_header.csv')\n",
    "\n",
    "players_df = pd.read_csv('c:/Users/Casa/Documents/GitHub/ProjecyEuroleague/data/euroleague_players.csv')\n",
    "points_df = pd.read_csv('c:/Users/Casa/Documents/GitHub/ProjecyEuroleague/data/euroleague_points.csv')\n",
    "teams_df = pd.read_csv('c:/Users/Casa/Documents/GitHub/ProjecyEuroleague/data/euroleague_teams.csv')\n"
   ]
  },
  {
   "cell_type": "markdown",
   "metadata": {},
   "source": [
    "Filtrado por temporada  2023 "
   ]
  },
  {
   "cell_type": "code",
   "execution_count": 3,
   "metadata": {},
   "outputs": [],
   "source": [
    "# Filtrar por temporada 2023\n",
    "box_score_2023 = box_score_df[box_score_df['season_code'] == 'E2023']\n",
    "comparison_2023 = comparison_df[comparison_df['season_code'] == 'E2023']\n",
    "header_2023 = header_df[header_df['season_code'] == 'E2023']\n",
    "\n",
    "players_2023 = players_df[players_df['season_code'] == 'E2023']\n",
    "points_2023 = points_df[points_df['season_code'] == 'E2023']\n",
    "teams_2023 = teams_df[teams_df['season_code'] == 'E2023']\n"
   ]
  },
  {
   "cell_type": "markdown",
   "metadata": {},
   "source": [
    "Creación csv"
   ]
  },
  {
   "cell_type": "code",
   "execution_count": 4,
   "metadata": {},
   "outputs": [
    {
     "name": "stdout",
     "output_type": "stream",
     "text": [
      "Archivos CSV creados correctamente.\n"
     ]
    }
   ],
   "source": [
    "# Crear archivos CSV para los datos filtrados por temporada 2023\n",
    "box_score_2023.to_csv('box_score_2023.csv', index=False)\n",
    "comparison_2023.to_csv('comparison_2023.csv', index=False)\n",
    "header_2023.to_csv('header_2023.csv', index=False)\n",
    "\n",
    "players_2023.to_csv('players_2023.csv', index=False)\n",
    "points_2023.to_csv('points_2023.csv', index=False)\n",
    "teams_2023.to_csv('teams_2023.csv', index=False)\n",
    "\n",
    "print(\"Archivos CSV creados correctamente.\")\n"
   ]
  },
  {
   "cell_type": "markdown",
   "metadata": {},
   "source": [
    "Creacion de nuevas variables para comparar rendimiento "
   ]
  },
  {
   "cell_type": "markdown",
   "metadata": {},
   "source": [
    "Diferencia de puntos "
   ]
  },
  {
   "cell_type": "code",
   "execution_count": 4,
   "metadata": {},
   "outputs": [],
   "source": [
    "# Calcular la diferencia de puntos para cada partido\n",
    "header_df['point_diff_a'] = header_df['score_a'] - header_df['score_b']\n",
    "header_df['point_diff_b'] = header_df['score_b'] - header_df['score_a']\n",
    "\n",
    "# Calcular la diferencia de puntos promedio para cada equipo\n",
    "point_diff_avg = header_df.groupby('team_id_a')['point_diff_a'].mean().reset_index().rename(columns={'point_diff_a': 'point_diff_avg_a'})\n",
    "point_diff_avg_b = header_df.groupby('team_id_b')['point_diff_b'].mean().reset_index().rename(columns={'point_diff_b': 'point_diff_avg_b'})\n",
    "\n",
    "# Unir las diferencias de ambos equipos\n",
    "point_diff_avg = point_diff_avg.merge(point_diff_avg_b, left_on='team_id_a', right_on='team_id_b', how='outer')\n"
   ]
  },
  {
   "cell_type": "markdown",
   "metadata": {},
   "source": [
    "Ratio victorias/derrotas"
   ]
  },
  {
   "cell_type": "code",
   "execution_count": 5,
   "metadata": {},
   "outputs": [],
   "source": [
    "# Calcular victorias y derrotas para cada equipo\n",
    "header_df['team_a_win'] = header_df['score_a'] > header_df['score_b']\n",
    "header_df['team_b_win'] = header_df['score_b'] > header_df['score_a']\n",
    "\n",
    "# Ratio de victorias/derrotas por equipo\n",
    "wins_a = header_df.groupby('team_id_a')['team_a_win'].sum().reset_index().rename(columns={'team_a_win': 'wins_a'})\n",
    "losses_a = header_df.groupby('team_id_a')['team_a_win'].count().reset_index().rename(columns={'team_a_win': 'total_games_a'})\n",
    "win_loss_ratio_a = wins_a.merge(losses_a, on='team_id_a')\n",
    "win_loss_ratio_a['win_loss_ratio_a'] = win_loss_ratio_a['wins_a'] / (win_loss_ratio_a['total_games_a'] - win_loss_ratio_a['wins_a'])\n",
    "\n",
    "wins_b = header_df.groupby('team_id_b')['team_b_win'].sum().reset_index().rename(columns={'team_b_win': 'wins_b'})\n",
    "losses_b = header_df.groupby('team_id_b')['team_b_win'].count().reset_index().rename(columns={'team_b_win': 'total_games_b'})\n",
    "win_loss_ratio_b = wins_b.merge(losses_b, on='team_id_b')\n",
    "win_loss_ratio_b['win_loss_ratio_b'] = win_loss_ratio_b['wins_b'] / (win_loss_ratio_b['total_games_b'] - win_loss_ratio_b['wins_b'])\n"
   ]
  },
  {
   "cell_type": "markdown",
   "metadata": {},
   "source": [
    "Eficiencia de ataque y defensa"
   ]
  },
  {
   "cell_type": "code",
   "execution_count": 7,
   "metadata": {},
   "outputs": [
    {
     "name": "stdout",
     "output_type": "stream",
     "text": [
      "                     player  points  possessions  offensive_efficiency  \\\n",
      "0               SCOTT, MIKE      10         8.00              1.250000   \n",
      "1                LEE, PARIS      17        17.76              0.957207   \n",
      "2           KAHUDI, CHARLES       5         3.00              1.666667   \n",
      "3        LAUVERGNE, JOFFREY      16        14.00              1.142857   \n",
      "4  LUWAWU-CABARROT, TIMOTHE      20        15.20              1.315789   \n",
      "\n",
      "   defensive_efficiency  \n",
      "0              0.800000  \n",
      "1              1.044706  \n",
      "2              0.600000  \n",
      "3              0.875000  \n",
      "4              0.760000  \n"
     ]
    }
   ],
   "source": [
    "from Funciones import *\n"
   ]
  },
  {
   "cell_type": "markdown",
   "metadata": {},
   "source": [
    "Rendimiento en casa vs. fuera"
   ]
  },
  {
   "cell_type": "code",
   "execution_count": 6,
   "metadata": {},
   "outputs": [],
   "source": [
    "# Rendimiento en casa\n",
    "header_df['is_home'] = header_df['team_a'] == header_df['stadium']\n",
    "\n",
    "# Calcular puntos promedio en casa y fuera\n",
    "home_performance = header_df.groupby('team_id_a')['score_a'].mean().reset_index().rename(columns={'score_a': 'home_points_avg'})\n",
    "away_performance = header_df.groupby('team_id_b')['score_b'].mean().reset_index().rename(columns={'score_b': 'away_points_avg'})\n",
    "\n",
    "# Unir los resultados de ambos equipos\n",
    "performance_comparison = home_performance.merge(away_performance, left_on='team_id_a', right_on='team_id_b', how='outer')\n"
   ]
  },
  {
   "cell_type": "markdown",
   "metadata": {},
   "source": [
    "Historial de enfrentamientos directos"
   ]
  },
  {
   "cell_type": "code",
   "execution_count": 7,
   "metadata": {},
   "outputs": [
    {
     "name": "stdout",
     "output_type": "stream",
     "text": [
      "   team_a_win  team_b_win  dominance\n",
      "0           0           1          0\n",
      "1           1           0          1\n",
      "2           1           0          1\n",
      "3           1           0          1\n",
      "4           1           1          0\n"
     ]
    }
   ],
   "source": [
    "# Historial de enfrentamientos entre equipos\n",
    "head_to_head = header_df.groupby(['team_id_a', 'team_id_b']).agg({'team_a_win': 'sum', 'team_b_win': 'sum'}).reset_index()\n",
    "head_to_head['total_matches'] = head_to_head['team_a_win'] + head_to_head['team_b_win']\n",
    "\n",
    "# Ver quién ha ganado más veces en enfrentamientos directos\n",
    "# Convertir la columna 'dominance' a valores binarios (1 y 0)\n",
    "head_to_head['dominance'] = np.where(head_to_head['team_a_win'] > head_to_head['team_b_win'], 1, 0)\n",
    "\n",
    "# Verificar los primeros valores de la columna nueva\n",
    "print(head_to_head[['team_a_win', 'team_b_win', 'dominance']].head())\n",
    "\n"
   ]
  },
  {
   "cell_type": "code",
   "execution_count": 10,
   "metadata": {},
   "outputs": [
    {
     "data": {
      "text/plain": [
       "team_id_a        object\n",
       "team_id_b        object\n",
       "team_a_win        int64\n",
       "team_b_win        int64\n",
       "total_matches     int64\n",
       "dominance         int32\n",
       "dtype: object"
      ]
     },
     "execution_count": 10,
     "metadata": {},
     "output_type": "execute_result"
    }
   ],
   "source": [
    "head_to_head.columns\n",
    "tipos_columnas = head_to_head.dtypes\n",
    "tipos_columnas"
   ]
  },
  {
   "cell_type": "markdown",
   "metadata": {},
   "source": [
    "Creacion de csv de las nuevas caracteristicas"
   ]
  },
  {
   "cell_type": "code",
   "execution_count": 8,
   "metadata": {},
   "outputs": [
    {
     "name": "stdout",
     "output_type": "stream",
     "text": [
      "Características nuevas guardadas en archivos CSV.\n"
     ]
    }
   ],
   "source": [
    "# Guardar las nuevas características en archivos CSV\n",
    "point_diff_avg.to_csv('point_diff_avg_2023.csv', index=False)\n",
    "performance_comparison.to_csv('home_away_performance_2023.csv', index=False)\n",
    "head_to_head.to_csv('head_to_head_2023.csv', index=False)\n",
    "\n",
    "print(\"Características nuevas guardadas en archivos CSV.\")\n"
   ]
  },
  {
   "cell_type": "code",
   "execution_count": 29,
   "metadata": {},
   "outputs": [
    {
     "data": {
      "text/html": [
       "<div>\n",
       "<style scoped>\n",
       "    .dataframe tbody tr th:only-of-type {\n",
       "        vertical-align: middle;\n",
       "    }\n",
       "\n",
       "    .dataframe tbody tr th {\n",
       "        vertical-align: top;\n",
       "    }\n",
       "\n",
       "    .dataframe thead th {\n",
       "        text-align: right;\n",
       "    }\n",
       "</style>\n",
       "<table border=\"1\" class=\"dataframe\">\n",
       "  <thead>\n",
       "    <tr style=\"text-align: right;\">\n",
       "      <th></th>\n",
       "      <th>team_id_a</th>\n",
       "      <th>home_points_avg</th>\n",
       "      <th>team_id_b</th>\n",
       "      <th>away_points_avg</th>\n",
       "    </tr>\n",
       "  </thead>\n",
       "  <tbody>\n",
       "    <tr>\n",
       "      <th>0</th>\n",
       "      <td>ARI</td>\n",
       "      <td>79.700000</td>\n",
       "      <td>ARI</td>\n",
       "      <td>70.500000</td>\n",
       "    </tr>\n",
       "    <tr>\n",
       "      <th>1</th>\n",
       "      <td>ASV</td>\n",
       "      <td>77.597701</td>\n",
       "      <td>ASV</td>\n",
       "      <td>72.400000</td>\n",
       "    </tr>\n",
       "    <tr>\n",
       "      <th>2</th>\n",
       "      <td>AVE</td>\n",
       "      <td>74.000000</td>\n",
       "      <td>AVE</td>\n",
       "      <td>76.800000</td>\n",
       "    </tr>\n",
       "    <tr>\n",
       "      <th>3</th>\n",
       "      <td>BAM</td>\n",
       "      <td>78.486842</td>\n",
       "      <td>BAM</td>\n",
       "      <td>72.105263</td>\n",
       "    </tr>\n",
       "    <tr>\n",
       "      <th>4</th>\n",
       "      <td>BAR</td>\n",
       "      <td>80.953668</td>\n",
       "      <td>BAR</td>\n",
       "      <td>77.387097</td>\n",
       "    </tr>\n",
       "    <tr>\n",
       "      <th>5</th>\n",
       "      <td>BAS</td>\n",
       "      <td>82.547009</td>\n",
       "      <td>BAS</td>\n",
       "      <td>78.936170</td>\n",
       "    </tr>\n",
       "    <tr>\n",
       "      <th>6</th>\n",
       "      <td>BER</td>\n",
       "      <td>76.699115</td>\n",
       "      <td>BER</td>\n",
       "      <td>76.521739</td>\n",
       "    </tr>\n",
       "    <tr>\n",
       "      <th>7</th>\n",
       "      <td>BES</td>\n",
       "      <td>67.500000</td>\n",
       "      <td>BES</td>\n",
       "      <td>65.166667</td>\n",
       "    </tr>\n",
       "    <tr>\n",
       "      <th>8</th>\n",
       "      <td>BIL</td>\n",
       "      <td>78.700000</td>\n",
       "      <td>BIL</td>\n",
       "      <td>72.200000</td>\n",
       "    </tr>\n",
       "    <tr>\n",
       "      <th>9</th>\n",
       "      <td>BUD</td>\n",
       "      <td>75.866667</td>\n",
       "      <td>BUD</td>\n",
       "      <td>72.800000</td>\n",
       "    </tr>\n",
       "  </tbody>\n",
       "</table>\n",
       "</div>"
      ],
      "text/plain": [
       "  team_id_a  home_points_avg team_id_b  away_points_avg\n",
       "0       ARI        79.700000       ARI        70.500000\n",
       "1       ASV        77.597701       ASV        72.400000\n",
       "2       AVE        74.000000       AVE        76.800000\n",
       "3       BAM        78.486842       BAM        72.105263\n",
       "4       BAR        80.953668       BAR        77.387097\n",
       "5       BAS        82.547009       BAS        78.936170\n",
       "6       BER        76.699115       BER        76.521739\n",
       "7       BES        67.500000       BES        65.166667\n",
       "8       BIL        78.700000       BIL        72.200000\n",
       "9       BUD        75.866667       BUD        72.800000"
      ]
     },
     "execution_count": 29,
     "metadata": {},
     "output_type": "execute_result"
    }
   ],
   "source": [
    "performance_comparison.head(10)"
   ]
  },
  {
   "cell_type": "code",
   "execution_count": 9,
   "metadata": {},
   "outputs": [
    {
     "data": {
      "text/html": [
       "<div>\n",
       "<style scoped>\n",
       "    .dataframe tbody tr th:only-of-type {\n",
       "        vertical-align: middle;\n",
       "    }\n",
       "\n",
       "    .dataframe tbody tr th {\n",
       "        vertical-align: top;\n",
       "    }\n",
       "\n",
       "    .dataframe thead th {\n",
       "        text-align: right;\n",
       "    }\n",
       "</style>\n",
       "<table border=\"1\" class=\"dataframe\">\n",
       "  <thead>\n",
       "    <tr style=\"text-align: right;\">\n",
       "      <th></th>\n",
       "      <th>team_id_a</th>\n",
       "      <th>team_id_b</th>\n",
       "      <th>team_a_win</th>\n",
       "      <th>team_b_win</th>\n",
       "      <th>total_matches</th>\n",
       "      <th>dominance</th>\n",
       "    </tr>\n",
       "  </thead>\n",
       "  <tbody>\n",
       "    <tr>\n",
       "      <th>0</th>\n",
       "      <td>ARI</td>\n",
       "      <td>BAS</td>\n",
       "      <td>0</td>\n",
       "      <td>1</td>\n",
       "      <td>1</td>\n",
       "      <td>0</td>\n",
       "    </tr>\n",
       "    <tr>\n",
       "      <th>1</th>\n",
       "      <td>ARI</td>\n",
       "      <td>CIB</td>\n",
       "      <td>1</td>\n",
       "      <td>0</td>\n",
       "      <td>1</td>\n",
       "      <td>1</td>\n",
       "    </tr>\n",
       "    <tr>\n",
       "      <th>2</th>\n",
       "      <td>ARI</td>\n",
       "      <td>IST</td>\n",
       "      <td>1</td>\n",
       "      <td>0</td>\n",
       "      <td>1</td>\n",
       "      <td>1</td>\n",
       "    </tr>\n",
       "    <tr>\n",
       "      <th>3</th>\n",
       "      <td>ARI</td>\n",
       "      <td>LEM</td>\n",
       "      <td>1</td>\n",
       "      <td>0</td>\n",
       "      <td>1</td>\n",
       "      <td>1</td>\n",
       "    </tr>\n",
       "    <tr>\n",
       "      <th>4</th>\n",
       "      <td>ARI</td>\n",
       "      <td>LIE</td>\n",
       "      <td>1</td>\n",
       "      <td>1</td>\n",
       "      <td>2</td>\n",
       "      <td>0</td>\n",
       "    </tr>\n",
       "    <tr>\n",
       "      <th>5</th>\n",
       "      <td>ARI</td>\n",
       "      <td>MAL</td>\n",
       "      <td>1</td>\n",
       "      <td>0</td>\n",
       "      <td>1</td>\n",
       "      <td>1</td>\n",
       "    </tr>\n",
       "    <tr>\n",
       "      <th>6</th>\n",
       "      <td>ARI</td>\n",
       "      <td>MIL</td>\n",
       "      <td>0</td>\n",
       "      <td>1</td>\n",
       "      <td>1</td>\n",
       "      <td>0</td>\n",
       "    </tr>\n",
       "    <tr>\n",
       "      <th>7</th>\n",
       "      <td>ARI</td>\n",
       "      <td>TEL</td>\n",
       "      <td>0</td>\n",
       "      <td>1</td>\n",
       "      <td>1</td>\n",
       "      <td>0</td>\n",
       "    </tr>\n",
       "    <tr>\n",
       "      <th>8</th>\n",
       "      <td>ARI</td>\n",
       "      <td>ULK</td>\n",
       "      <td>0</td>\n",
       "      <td>1</td>\n",
       "      <td>1</td>\n",
       "      <td>0</td>\n",
       "    </tr>\n",
       "    <tr>\n",
       "      <th>9</th>\n",
       "      <td>ASV</td>\n",
       "      <td>BAR</td>\n",
       "      <td>2</td>\n",
       "      <td>3</td>\n",
       "      <td>5</td>\n",
       "      <td>0</td>\n",
       "    </tr>\n",
       "  </tbody>\n",
       "</table>\n",
       "</div>"
      ],
      "text/plain": [
       "  team_id_a team_id_b  team_a_win  team_b_win  total_matches  dominance\n",
       "0       ARI       BAS           0           1              1          0\n",
       "1       ARI       CIB           1           0              1          1\n",
       "2       ARI       IST           1           0              1          1\n",
       "3       ARI       LEM           1           0              1          1\n",
       "4       ARI       LIE           1           1              2          0\n",
       "5       ARI       MAL           1           0              1          1\n",
       "6       ARI       MIL           0           1              1          0\n",
       "7       ARI       TEL           0           1              1          0\n",
       "8       ARI       ULK           0           1              1          0\n",
       "9       ASV       BAR           2           3              5          0"
      ]
     },
     "execution_count": 9,
     "metadata": {},
     "output_type": "execute_result"
    }
   ],
   "source": [
    "head_to_head.head(10)"
   ]
  },
  {
   "cell_type": "code",
   "execution_count": 10,
   "metadata": {},
   "outputs": [
    {
     "data": {
      "text/html": [
       "<div>\n",
       "<style scoped>\n",
       "    .dataframe tbody tr th:only-of-type {\n",
       "        vertical-align: middle;\n",
       "    }\n",
       "\n",
       "    .dataframe tbody tr th {\n",
       "        vertical-align: top;\n",
       "    }\n",
       "\n",
       "    .dataframe thead th {\n",
       "        text-align: right;\n",
       "    }\n",
       "</style>\n",
       "<table border=\"1\" class=\"dataframe\">\n",
       "  <thead>\n",
       "    <tr style=\"text-align: right;\">\n",
       "      <th></th>\n",
       "      <th>team_id_a</th>\n",
       "      <th>point_diff_avg_a</th>\n",
       "      <th>team_id_b</th>\n",
       "      <th>point_diff_avg_b</th>\n",
       "    </tr>\n",
       "  </thead>\n",
       "  <tbody>\n",
       "    <tr>\n",
       "      <th>0</th>\n",
       "      <td>ARI</td>\n",
       "      <td>-0.400000</td>\n",
       "      <td>ARI</td>\n",
       "      <td>-6.100000</td>\n",
       "    </tr>\n",
       "    <tr>\n",
       "      <th>1</th>\n",
       "      <td>ASV</td>\n",
       "      <td>-3.195402</td>\n",
       "      <td>ASV</td>\n",
       "      <td>-9.682353</td>\n",
       "    </tr>\n",
       "    <tr>\n",
       "      <th>2</th>\n",
       "      <td>AVE</td>\n",
       "      <td>-3.400000</td>\n",
       "      <td>AVE</td>\n",
       "      <td>-8.600000</td>\n",
       "    </tr>\n",
       "    <tr>\n",
       "      <th>3</th>\n",
       "      <td>BAM</td>\n",
       "      <td>0.289474</td>\n",
       "      <td>BAM</td>\n",
       "      <td>-8.223684</td>\n",
       "    </tr>\n",
       "    <tr>\n",
       "      <th>4</th>\n",
       "      <td>BAR</td>\n",
       "      <td>8.494208</td>\n",
       "      <td>BAR</td>\n",
       "      <td>2.391129</td>\n",
       "    </tr>\n",
       "    <tr>\n",
       "      <th>5</th>\n",
       "      <td>BAS</td>\n",
       "      <td>5.683761</td>\n",
       "      <td>BAS</td>\n",
       "      <td>-3.370213</td>\n",
       "    </tr>\n",
       "    <tr>\n",
       "      <th>6</th>\n",
       "      <td>BER</td>\n",
       "      <td>-2.610619</td>\n",
       "      <td>BER</td>\n",
       "      <td>-7.843478</td>\n",
       "    </tr>\n",
       "    <tr>\n",
       "      <th>7</th>\n",
       "      <td>BES</td>\n",
       "      <td>-7.500000</td>\n",
       "      <td>BES</td>\n",
       "      <td>-14.250000</td>\n",
       "    </tr>\n",
       "    <tr>\n",
       "      <th>8</th>\n",
       "      <td>BIL</td>\n",
       "      <td>8.700000</td>\n",
       "      <td>BIL</td>\n",
       "      <td>-8.700000</td>\n",
       "    </tr>\n",
       "    <tr>\n",
       "      <th>9</th>\n",
       "      <td>BUD</td>\n",
       "      <td>-4.400000</td>\n",
       "      <td>BUD</td>\n",
       "      <td>-16.933333</td>\n",
       "    </tr>\n",
       "  </tbody>\n",
       "</table>\n",
       "</div>"
      ],
      "text/plain": [
       "  team_id_a  point_diff_avg_a team_id_b  point_diff_avg_b\n",
       "0       ARI         -0.400000       ARI         -6.100000\n",
       "1       ASV         -3.195402       ASV         -9.682353\n",
       "2       AVE         -3.400000       AVE         -8.600000\n",
       "3       BAM          0.289474       BAM         -8.223684\n",
       "4       BAR          8.494208       BAR          2.391129\n",
       "5       BAS          5.683761       BAS         -3.370213\n",
       "6       BER         -2.610619       BER         -7.843478\n",
       "7       BES         -7.500000       BES        -14.250000\n",
       "8       BIL          8.700000       BIL         -8.700000\n",
       "9       BUD         -4.400000       BUD        -16.933333"
      ]
     },
     "execution_count": 10,
     "metadata": {},
     "output_type": "execute_result"
    }
   ],
   "source": [
    "point_diff_avg.head(10)"
   ]
  },
  {
   "cell_type": "markdown",
   "metadata": {},
   "source": [
    "Convertir Columnas"
   ]
  },
  {
   "cell_type": "code",
   "execution_count": 11,
   "metadata": {},
   "outputs": [
    {
     "name": "stdout",
     "output_type": "stream",
     "text": [
      "  team_id_a  point_diff_avg_a team_id_b  point_diff_avg_b\n",
      "0       ARI         -0.400000       ARI         -6.100000\n",
      "1       ASV         -3.195402       ASV         -9.682353\n",
      "2       AVE         -3.400000       AVE         -8.600000\n",
      "3       BAM          0.289474       BAM         -8.223684\n",
      "4       BAR          8.494208       BAR          2.391129\n"
     ]
    }
   ],
   "source": [
    "# Convertir las columnas 'team_id_a' y 'team_id_b' a mayúsculas\n",
    "point_diff_avg['team_id_a'] = point_diff_avg['team_id_a'].str.upper()\n",
    "point_diff_avg['team_id_b'] = point_diff_avg['team_id_b'].str.upper()\n",
    "\n",
    "# Ver el resultado\n",
    "print(point_diff_avg.head())\n"
   ]
  },
  {
   "cell_type": "markdown",
   "metadata": {},
   "source": [
    "Creacion de CSV"
   ]
  },
  {
   "cell_type": "code",
   "execution_count": 12,
   "metadata": {},
   "outputs": [],
   "source": [
    "header_df = pd.read_csv('c:/Users/Casa/Documents/GitHub/ProjecyEuroleague/data cleaned/header_2023.csv') \n",
    "df_players =  pd.read_csv('c:/Users/Casa/Documents/GitHub/ProjecyEuroleague/data cleaned/players_2023.csv')\n",
    "df_eficiencia =  pd.read_csv('c:/Users/Casa/Documents/GitHub/ProjecyEuroleague/data cleaned/euroleague_players_efficiency.csv')\n",
    "df_head_to_head =  pd.read_csv('c:/Users/Casa/Documents/GitHub/ProjecyEuroleague/data cleaned/head_to_head_2023.csv')\n"
   ]
  },
  {
   "cell_type": "code",
   "execution_count": 34,
   "metadata": {},
   "outputs": [
    {
     "name": "stdout",
     "output_type": "stream",
     "text": [
      "  team_id_a team_id_b  team_a_win  team_b_win  total_matches  dominance  \\\n",
      "0       ARI       ARI         NaN         NaN            NaN        NaN   \n",
      "1       ARI       BAS         0.0         1.0            1.0        0.0   \n",
      "2       ARI       CIB         1.0         0.0            1.0        1.0   \n",
      "3       ARI       IST         1.0         0.0            1.0        1.0   \n",
      "4       ARI       LEM         1.0         0.0            1.0        1.0   \n",
      "\n",
      "   point_diff_avg_a  point_diff_avg_b  home_points_avg  away_points_avg  \n",
      "0              -0.4              -6.1             79.7             70.5  \n",
      "1               NaN               NaN              NaN              NaN  \n",
      "2               NaN               NaN              NaN              NaN  \n",
      "3               NaN               NaN              NaN              NaN  \n",
      "4               NaN               NaN              NaN              NaN  \n"
     ]
    }
   ],
   "source": [
    "\n",
    "# Asegurarse de que todas las claves están en mayúsculas\n",
    "df_head_to_head['team_id_a'] = df_head_to_head['team_id_a'].str.upper()\n",
    "df_head_to_head['team_id_b'] = df_head_to_head['team_id_b'].str.upper()\n",
    "\n",
    "point_diff_avg['team_id_a'] = point_diff_avg['team_id_a'].str.upper()\n",
    "point_diff_avg['team_id_b'] = point_diff_avg['team_id_b'].str.upper()\n",
    "\n",
    "performance_comparison['team_id_a'] = performance_comparison['team_id_a'].str.upper()\n",
    "performance_comparison['team_id_b'] = performance_comparison['team_id_b'].str.upper()\n",
    "\n",
    "# Unir el primer DataFrame con point_diff_avg\n",
    "final_data = df_head_to_head.merge(point_diff_avg, on=['team_id_a', 'team_id_b'], how='outer')\n",
    "\n",
    "# Unir el resultado con performance_comparison\n",
    "final_data = final_data.merge(performance_comparison, on=['team_id_a', 'team_id_b'], how='outer')\n",
    "\n",
    "# Ver el resultado para asegurarse de que no haya nulos\n",
    "print(final_data.head())\n"
   ]
  },
  {
   "cell_type": "markdown",
   "metadata": {},
   "source": [
    "Creacion de CSV"
   ]
  },
  {
   "cell_type": "code",
   "execution_count": 37,
   "metadata": {},
   "outputs": [],
   "source": [
    "final_data.to_csv('c:/Users/Casa/Documents/GitHub/ProjecyEuroleague/data cleaned/final_data.csv', index=False)"
   ]
  },
  {
   "cell_type": "code",
   "execution_count": 32,
   "metadata": {},
   "outputs": [],
   "source": [
    "# Eliminar filas que contengan valores nulos\n",
    "final_data_clean = final_data.dropna()\n"
   ]
  },
  {
   "cell_type": "code",
   "execution_count": 35,
   "metadata": {},
   "outputs": [
    {
     "name": "stdout",
     "output_type": "stream",
     "text": [
      "team_id_a           0\n",
      "team_id_b           0\n",
      "team_a_win          0\n",
      "team_b_win          0\n",
      "total_matches       0\n",
      "dominance           0\n",
      "point_diff_avg_a    0\n",
      "point_diff_avg_b    0\n",
      "home_points_avg     0\n",
      "away_points_avg     0\n",
      "dtype: int64\n"
     ]
    }
   ],
   "source": [
    "# Verificar si quedan valores nulos\n",
    "print(final_data_clean.isnull().sum())\n"
   ]
  },
  {
   "cell_type": "code",
   "execution_count": 36,
   "metadata": {},
   "outputs": [],
   "source": [
    "final_data_clean.head(10)\n",
    "final_data_clean.to_csv('c:/Users/Casa/Documents/GitHub/ProjecyEuroleague/data cleaned/final_data.csv', index=False)"
   ]
  },
  {
   "cell_type": "code",
   "execution_count": 16,
   "metadata": {},
   "outputs": [
    {
     "name": "stdout",
     "output_type": "stream",
     "text": [
      "  team_id_a team_id_b  team_a_win  team_b_win  total_matches  dominance  \\\n",
      "0       ARI       ARI         NaN         NaN            NaN        NaN   \n",
      "1       ASV       ASV         NaN         NaN            NaN        NaN   \n",
      "2       AVE       AVE         NaN         NaN            NaN        NaN   \n",
      "3       BAM       BAM         NaN         NaN            NaN        NaN   \n",
      "4       BAR       BAR         NaN         NaN            NaN        NaN   \n",
      "\n",
      "   point_diff_avg_a  point_diff_avg_b  home_points_avg  away_points_avg  \n",
      "0         -0.400000         -6.100000        79.700000        70.500000  \n",
      "1         -3.195402         -9.682353        77.597701        72.400000  \n",
      "2         -3.400000         -8.600000        74.000000        76.800000  \n",
      "3          0.289474         -8.223684        78.486842        72.105263  \n",
      "4          8.494208          2.391129        80.953668        77.387097  \n"
     ]
    }
   ],
   "source": [
    "# Unir df_head_to_head con point_diff_avg basado en team_id_a y team_id_b\n",
    "merged_data = df_head_to_head.merge(point_diff_avg, on=['team_id_a', 'team_id_b'], how='right')\n",
    "\n",
    "# Unir el resultado anterior con performance_comparison usando team_id_a y team_id_b\n",
    "merged_data = merged_data.merge(performance_comparison, on=['team_id_a', 'team_id_b'], how='right')\n",
    "\n",
    "# Visualizar el resultado\n",
    "print(merged_data.head())\n"
   ]
  }
 ],
 "metadata": {
  "kernelspec": {
   "display_name": "base",
   "language": "python",
   "name": "python3"
  },
  "language_info": {
   "codemirror_mode": {
    "name": "ipython",
    "version": 3
   },
   "file_extension": ".py",
   "mimetype": "text/x-python",
   "name": "python",
   "nbconvert_exporter": "python",
   "pygments_lexer": "ipython3",
   "version": "3.12.4"
  }
 },
 "nbformat": 4,
 "nbformat_minor": 2
}
