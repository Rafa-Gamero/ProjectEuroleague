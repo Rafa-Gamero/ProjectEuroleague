{
 "cells": [
  {
   "cell_type": "code",
   "execution_count": 1,
   "metadata": {},
   "outputs": [],
   "source": [
    "import pandas as pd\n",
    "\n",
    "data = {\n",
    "    'team': ['ALBA Berlin', 'AS Monaco', 'Anadolu Efes Istanbul', 'Baskonia Vitoria-Gasteiz', 'Crvena Zvezda Meridianbet Belgrade', \n",
    "             'EA7 Emporio Armani Milan', 'FC Barcelona', 'FC Bayern Munich', 'Fenerbahce Beko Istanbul', 'LDLC ASVEL Villeurbanne', \n",
    "             'Maccabi Playtika Tel Aviv', 'Olympiacos Piraeus', 'Panathinaikos Athens', 'Partizan Mozzart Bet Belgrade', \n",
    "             'Real Madrid', 'Valencia Basket', 'Virtus Segafredo Bologna', 'Zalgiris Kaunas'],\n",
    "    'probabilidadganar': [47.7, 35.1, 65.8, 79, 41.6, 56.5, 75.8, 43.4, 80.5, 34, 87.5, 74.7, 74, 50.5, 78.2, 35.4, 34.6, 59.1],\n",
    "    'seguidores': [66848, 87298, 256298, 96270, 360021, 162826, 1318726, 331768, 1384889, 92717, 138237, 342933, 590806, 416329, 4982982, 118974, 109403, 183015]\n",
    "}\n",
    "\n",
    "df = pd.DataFrame(data)\n"
   ]
  },
  {
   "cell_type": "code",
   "execution_count": 4,
   "metadata": {},
   "outputs": [
    {
     "name": "stdout",
     "output_type": "stream",
     "text": [
      "                                  team  probabilidadganar  seguidores  \\\n",
      "0                          ALBA Berlin               47.7       66848   \n",
      "1                            AS Monaco               35.1       87298   \n",
      "2                Anadolu Efes Istanbul               65.8      256298   \n",
      "3             Baskonia Vitoria-Gasteiz               79.0       96270   \n",
      "4   Crvena Zvezda Meridianbet Belgrade               41.6      360021   \n",
      "5             EA7 Emporio Armani Milan               56.5      162826   \n",
      "6                         FC Barcelona               75.8     1318726   \n",
      "7                     FC Bayern Munich               43.4      331768   \n",
      "8             Fenerbahce Beko Istanbul               80.5     1384889   \n",
      "9              LDLC ASVEL Villeurbanne               34.0       92717   \n",
      "10           Maccabi Playtika Tel Aviv               87.5      138237   \n",
      "11                  Olympiacos Piraeus               74.7      342933   \n",
      "12                Panathinaikos Athens               74.0      590806   \n",
      "13       Partizan Mozzart Bet Belgrade               50.5      416329   \n",
      "14                         Real Madrid               78.2     4982982   \n",
      "15                     Valencia Basket               35.4      118974   \n",
      "16            Virtus Segafredo Bologna               34.6      109403   \n",
      "17                     Zalgiris Kaunas               59.1      183015   \n",
      "\n",
      "    coste_por_seguidor  valor_esperado_patrocinio  \n",
      "0                14.96                   477000.0  \n",
      "1                11.46                   351000.0  \n",
      "2                 3.90                   658000.0  \n",
      "3                10.39                   790000.0  \n",
      "4                 2.78                   416000.0  \n",
      "5                 6.14                   565000.0  \n",
      "6                 0.76                   758000.0  \n",
      "7                 3.01                   434000.0  \n",
      "8                 0.72                   805000.0  \n",
      "9                10.79                   340000.0  \n",
      "10                7.23                   875000.0  \n",
      "11                2.92                   747000.0  \n",
      "12                1.69                   740000.0  \n",
      "13                2.40                   505000.0  \n",
      "14                0.20                   782000.0  \n",
      "15                8.41                   354000.0  \n",
      "16                9.14                   346000.0  \n",
      "17                5.46                   591000.0  \n"
     ]
    }
   ],
   "source": [
    "patrocinio = 1000000  # 1 millón de euros\n",
    "df['coste_por_seguidor'] = patrocinio / df['seguidores']\n",
    "df['valor_esperado_patrocinio'] = (df['probabilidadganar'] / 100) * patrocinio\n",
    "\n",
    "# Redondear a dos decimales las columnas necesarias\n",
    "df['coste_por_seguidor'] = df['coste_por_seguidor'].round(2)\n",
    "df['valor_esperado_patrocinio'] = df['valor_esperado_patrocinio'].round(2)\n",
    "\n",
    "# Mostrar el DataFrame con dos decimales\n",
    "print(df)\n",
    "\n"
   ]
  },
  {
   "cell_type": "code",
   "execution_count": 5,
   "metadata": {},
   "outputs": [],
   "source": [
    "df.to_csv('rendimiento_patrocinio.csv', index=False)\n"
   ]
  }
 ],
 "metadata": {
  "kernelspec": {
   "display_name": "base",
   "language": "python",
   "name": "python3"
  },
  "language_info": {
   "codemirror_mode": {
    "name": "ipython",
    "version": 3
   },
   "file_extension": ".py",
   "mimetype": "text/x-python",
   "name": "python",
   "nbconvert_exporter": "python",
   "pygments_lexer": "ipython3",
   "version": "3.12.4"
  }
 },
 "nbformat": 4,
 "nbformat_minor": 2
}
